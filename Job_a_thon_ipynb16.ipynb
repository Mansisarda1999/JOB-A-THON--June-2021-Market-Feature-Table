{
  "nbformat": 4,
  "nbformat_minor": 0,
  "metadata": {
    "colab": {
      "name": "Job_a_thon_ipynb16.ipynb",
      "provenance": [],
      "collapsed_sections": [],
      "include_colab_link": true
    },
    "kernelspec": {
      "display_name": "Python 3",
      "name": "python3"
    },
    "language_info": {
      "name": "python"
    }
  },
  "cells": [
    {
      "cell_type": "markdown",
      "metadata": {
        "id": "view-in-github",
        "colab_type": "text"
      },
      "source": [
        "<a href=\"https://colab.research.google.com/github/Mansisarda1999/JOB-A-THON--June-2021-Market-Feature-Table/blob/main/Job_a_thon_ipynb16.ipynb\" target=\"_parent\"><img src=\"https://colab.research.google.com/assets/colab-badge.svg\" alt=\"Open In Colab\"/></a>"
      ]
    },
    {
      "cell_type": "code",
      "metadata": {
        "id": "LVG0RnaXtiMP",
        "colab": {
          "base_uri": "https://localhost:8080/"
        },
        "outputId": "6dea49c6-6c36-43a6-dba3-83e45c8a2e52"
      },
      "source": [
        "!wget --header=\"Host: doc-08-80-docs.googleusercontent.com\" --header=\"User-Agent: Mozilla/5.0 (Windows NT 10.0; Win64; x64) AppleWebKit/537.36 (KHTML, like Gecko) Chrome/91.0.4472.124 Safari/537.36\" --header=\"Accept: text/html,application/xhtml+xml,application/xml;q=0.9,image/avif,image/webp,image/apng,*/*;q=0.8,application/signed-exchange;v=b3;q=0.9\" --header=\"Accept-Language: en-US,en-IN;q=0.9,en;q=0.8\" --header=\"Referer: https://drive.google.com/\" --header=\"Cookie: AUTH_a0mf4r5kv82902a8lh9feu05lpgje6p2_nonce=hnnq9qm4fim7g\" --header=\"Connection: keep-alive\" \"https://doc-08-80-docs.googleusercontent.com/docs/securesc/74hnkitv3d0pvdf31p60q1hrvp0rk5ge/7h6kk9h1k3lcdk06hoijuavrqmggtblc/1625375325000/01461370006936346968/02763092316838431110/1DLLSvSOYhGM16leUho-YsGipzHkTS1BS?e=download&authuser=0&nonce=hnnq9qm4fim7g&user=02763092316838431110&hash=b1radurf7lpi38cjbueo8ck3prdh00mj\" -c -O 'data.zip'"
      ],
      "execution_count": null,
      "outputs": [
        {
          "output_type": "stream",
          "text": [
            "--2021-07-04 05:10:06--  https://doc-08-80-docs.googleusercontent.com/docs/securesc/74hnkitv3d0pvdf31p60q1hrvp0rk5ge/7h6kk9h1k3lcdk06hoijuavrqmggtblc/1625375325000/01461370006936346968/02763092316838431110/1DLLSvSOYhGM16leUho-YsGipzHkTS1BS?e=download&authuser=0&nonce=hnnq9qm4fim7g&user=02763092316838431110&hash=b1radurf7lpi38cjbueo8ck3prdh00mj\n",
            "Resolving doc-08-80-docs.googleusercontent.com (doc-08-80-docs.googleusercontent.com)... 173.194.214.132, 2607:f8b0:400c:c0b::84\n",
            "Connecting to doc-08-80-docs.googleusercontent.com (doc-08-80-docs.googleusercontent.com)|173.194.214.132|:443... connected.\n",
            "HTTP request sent, awaiting response... 200 OK\n",
            "Length: unspecified [application/zip]\n",
            "Saving to: ‘data.zip’\n",
            "\n",
            "data.zip                [       <=>          ] 138.60M  97.8MB/s    in 1.4s    \n",
            "\n",
            "2021-07-04 05:10:08 (97.8 MB/s) - ‘data.zip’ saved [145335249]\n",
            "\n"
          ],
          "name": "stdout"
        }
      ]
    },
    {
      "cell_type": "code",
      "metadata": {
        "id": "64_U3jONt9AZ",
        "colab": {
          "base_uri": "https://localhost:8080/"
        },
        "outputId": "54dc86f2-4265-4a73-f1d0-a59fe4f5172e"
      },
      "source": [
        "## Unzip the zip folder\n",
        "!unzip data.zip"
      ],
      "execution_count": null,
      "outputs": [
        {
          "output_type": "stream",
          "text": [
            "Archive:  data.zip\n",
            "   creating: data/\n",
            "  inflating: data/VisitorLogsData.csv  \n",
            "   creating: data/.ipynb_checkpoints/\n",
            "  inflating: data/userTable.csv      \n"
          ],
          "name": "stdout"
        }
      ]
    },
    {
      "cell_type": "code",
      "metadata": {
        "id": "Y-u34y7V_gq3"
      },
      "source": [
        "## Importing all the libraries used for creating the pipeline\n",
        "import numpy as np\n",
        "import pandas as pd\n",
        "from datetime import datetime\n",
        "import regex as re\n",
        "import math"
      ],
      "execution_count": null,
      "outputs": []
    },
    {
      "cell_type": "code",
      "metadata": {
        "id": "vwnLOSRau-D1"
      },
      "source": [
        "## reading the visitor data\n",
        "visitor_data = pd.read_csv(\"/content/data/VisitorLogsData.csv\")"
      ],
      "execution_count": null,
      "outputs": []
    },
    {
      "cell_type": "code",
      "metadata": {
        "colab": {
          "base_uri": "https://localhost:8080/",
          "height": 204
        },
        "id": "r88Id4S_vVXE",
        "outputId": "0fc99962-88ae-4e98-9975-865ed8d80c79"
      },
      "source": [
        "visitor_data.head()"
      ],
      "execution_count": null,
      "outputs": [
        {
          "output_type": "execute_result",
          "data": {
            "text/html": [
              "<div>\n",
              "<style scoped>\n",
              "    .dataframe tbody tr th:only-of-type {\n",
              "        vertical-align: middle;\n",
              "    }\n",
              "\n",
              "    .dataframe tbody tr th {\n",
              "        vertical-align: top;\n",
              "    }\n",
              "\n",
              "    .dataframe thead th {\n",
              "        text-align: right;\n",
              "    }\n",
              "</style>\n",
              "<table border=\"1\" class=\"dataframe\">\n",
              "  <thead>\n",
              "    <tr style=\"text-align: right;\">\n",
              "      <th></th>\n",
              "      <th>webClientID</th>\n",
              "      <th>VisitDateTime</th>\n",
              "      <th>ProductID</th>\n",
              "      <th>UserID</th>\n",
              "      <th>Activity</th>\n",
              "      <th>Browser</th>\n",
              "      <th>OS</th>\n",
              "      <th>City</th>\n",
              "      <th>Country</th>\n",
              "    </tr>\n",
              "  </thead>\n",
              "  <tbody>\n",
              "    <tr>\n",
              "      <th>0</th>\n",
              "      <td>WI10000050298</td>\n",
              "      <td>2018-05-07 04:28:45.970</td>\n",
              "      <td>pr100631</td>\n",
              "      <td>NaN</td>\n",
              "      <td>NaN</td>\n",
              "      <td>Chrome Mobile</td>\n",
              "      <td>Android</td>\n",
              "      <td>Chennai</td>\n",
              "      <td>India</td>\n",
              "    </tr>\n",
              "    <tr>\n",
              "      <th>1</th>\n",
              "      <td>WI10000025922</td>\n",
              "      <td>2018-05-13 07:26:04.964</td>\n",
              "      <td>pr100707</td>\n",
              "      <td>NaN</td>\n",
              "      <td>NaN</td>\n",
              "      <td>Chrome</td>\n",
              "      <td>Windows</td>\n",
              "      <td>NaN</td>\n",
              "      <td>Taiwan</td>\n",
              "    </tr>\n",
              "    <tr>\n",
              "      <th>2</th>\n",
              "      <td>WI100000204522</td>\n",
              "      <td>2018-05-11 11:43:42.832</td>\n",
              "      <td>pr100030</td>\n",
              "      <td>NaN</td>\n",
              "      <td>click</td>\n",
              "      <td>Chrome</td>\n",
              "      <td>windows</td>\n",
              "      <td>Gurgaon</td>\n",
              "      <td>India</td>\n",
              "    </tr>\n",
              "    <tr>\n",
              "      <th>3</th>\n",
              "      <td>WI10000011974</td>\n",
              "      <td>2018-05-13 15:20:23.436</td>\n",
              "      <td>Pr100192</td>\n",
              "      <td>NaN</td>\n",
              "      <td>CLICK</td>\n",
              "      <td>Chrome</td>\n",
              "      <td>Windows</td>\n",
              "      <td></td>\n",
              "      <td></td>\n",
              "    </tr>\n",
              "    <tr>\n",
              "      <th>4</th>\n",
              "      <td>WI100000441953</td>\n",
              "      <td>2018-05-08 20:44:25.238</td>\n",
              "      <td>Pr100762</td>\n",
              "      <td>NaN</td>\n",
              "      <td>click</td>\n",
              "      <td>Chrome</td>\n",
              "      <td>mac os x</td>\n",
              "      <td>Iselin</td>\n",
              "      <td>United States</td>\n",
              "    </tr>\n",
              "  </tbody>\n",
              "</table>\n",
              "</div>"
            ],
            "text/plain": [
              "      webClientID            VisitDateTime  ...     City        Country\n",
              "0   WI10000050298  2018-05-07 04:28:45.970  ...  Chennai          India\n",
              "1   WI10000025922  2018-05-13 07:26:04.964  ...      NaN         Taiwan\n",
              "2  WI100000204522  2018-05-11 11:43:42.832  ...  Gurgaon          India\n",
              "3   WI10000011974  2018-05-13 15:20:23.436  ...                        \n",
              "4  WI100000441953  2018-05-08 20:44:25.238  ...   Iselin  United States\n",
              "\n",
              "[5 rows x 9 columns]"
            ]
          },
          "metadata": {
            "tags": []
          },
          "execution_count": 5
        }
      ]
    },
    {
      "cell_type": "code",
      "metadata": {
        "id": "TXERJxAyvYDi"
      },
      "source": [
        "## reading user data\n",
        "user_data = pd.read_csv(\"/content/data/userTable.csv\")"
      ],
      "execution_count": null,
      "outputs": []
    },
    {
      "cell_type": "code",
      "metadata": {
        "colab": {
          "base_uri": "https://localhost:8080/",
          "height": 204
        },
        "id": "J8yCpIL_ve7X",
        "outputId": "a4437c24-dc58-4cf7-b4f0-b97a3357a982"
      },
      "source": [
        "user_data.head()"
      ],
      "execution_count": null,
      "outputs": [
        {
          "output_type": "execute_result",
          "data": {
            "text/html": [
              "<div>\n",
              "<style scoped>\n",
              "    .dataframe tbody tr th:only-of-type {\n",
              "        vertical-align: middle;\n",
              "    }\n",
              "\n",
              "    .dataframe tbody tr th {\n",
              "        vertical-align: top;\n",
              "    }\n",
              "\n",
              "    .dataframe thead th {\n",
              "        text-align: right;\n",
              "    }\n",
              "</style>\n",
              "<table border=\"1\" class=\"dataframe\">\n",
              "  <thead>\n",
              "    <tr style=\"text-align: right;\">\n",
              "      <th></th>\n",
              "      <th>UserID</th>\n",
              "      <th>Signup Date</th>\n",
              "      <th>User Segment</th>\n",
              "    </tr>\n",
              "  </thead>\n",
              "  <tbody>\n",
              "    <tr>\n",
              "      <th>0</th>\n",
              "      <td>U133159</td>\n",
              "      <td>2018-04-14 07:01:16.202607+00:00</td>\n",
              "      <td>C</td>\n",
              "    </tr>\n",
              "    <tr>\n",
              "      <th>1</th>\n",
              "      <td>U129368</td>\n",
              "      <td>2017-12-02 09:38:41.584270+00:00</td>\n",
              "      <td>B</td>\n",
              "    </tr>\n",
              "    <tr>\n",
              "      <th>2</th>\n",
              "      <td>U109654</td>\n",
              "      <td>2013-03-19 11:38:55+00:00</td>\n",
              "      <td>B</td>\n",
              "    </tr>\n",
              "    <tr>\n",
              "      <th>3</th>\n",
              "      <td>U108998</td>\n",
              "      <td>2018-01-18 08:29:51.627954+00:00</td>\n",
              "      <td>C</td>\n",
              "    </tr>\n",
              "    <tr>\n",
              "      <th>4</th>\n",
              "      <td>U131393</td>\n",
              "      <td>2018-03-27 08:05:28.806800+00:00</td>\n",
              "      <td>B</td>\n",
              "    </tr>\n",
              "  </tbody>\n",
              "</table>\n",
              "</div>"
            ],
            "text/plain": [
              "    UserID                       Signup Date User Segment\n",
              "0  U133159  2018-04-14 07:01:16.202607+00:00            C\n",
              "1  U129368  2017-12-02 09:38:41.584270+00:00            B\n",
              "2  U109654         2013-03-19 11:38:55+00:00            B\n",
              "3  U108998  2018-01-18 08:29:51.627954+00:00            C\n",
              "4  U131393  2018-03-27 08:05:28.806800+00:00            B"
            ]
          },
          "metadata": {
            "tags": []
          },
          "execution_count": 7
        }
      ]
    },
    {
      "cell_type": "code",
      "metadata": {
        "colab": {
          "base_uri": "https://localhost:8080/"
        },
        "id": "XJ-sJqjCz8d2",
        "outputId": "fafd109c-0c2c-4e30-db7e-b01fc111af00"
      },
      "source": [
        "visitor_data.shape"
      ],
      "execution_count": null,
      "outputs": [
        {
          "output_type": "execute_result",
          "data": {
            "text/plain": [
              "(6588000, 9)"
            ]
          },
          "metadata": {
            "tags": []
          },
          "execution_count": 8
        }
      ]
    },
    {
      "cell_type": "code",
      "metadata": {
        "colab": {
          "base_uri": "https://localhost:8080/",
          "height": 173
        },
        "id": "cXKE9VLNI5gQ",
        "outputId": "49a7819a-32e0-491b-d53e-0331bd466fca"
      },
      "source": [
        "visitor_data.describe()"
      ],
      "execution_count": null,
      "outputs": [
        {
          "output_type": "execute_result",
          "data": {
            "text/html": [
              "<div>\n",
              "<style scoped>\n",
              "    .dataframe tbody tr th:only-of-type {\n",
              "        vertical-align: middle;\n",
              "    }\n",
              "\n",
              "    .dataframe tbody tr th {\n",
              "        vertical-align: top;\n",
              "    }\n",
              "\n",
              "    .dataframe thead th {\n",
              "        text-align: right;\n",
              "    }\n",
              "</style>\n",
              "<table border=\"1\" class=\"dataframe\">\n",
              "  <thead>\n",
              "    <tr style=\"text-align: right;\">\n",
              "      <th></th>\n",
              "      <th>webClientID</th>\n",
              "      <th>VisitDateTime</th>\n",
              "      <th>ProductID</th>\n",
              "      <th>UserID</th>\n",
              "      <th>Activity</th>\n",
              "      <th>Browser</th>\n",
              "      <th>OS</th>\n",
              "      <th>City</th>\n",
              "      <th>Country</th>\n",
              "    </tr>\n",
              "  </thead>\n",
              "  <tbody>\n",
              "    <tr>\n",
              "      <th>count</th>\n",
              "      <td>6588000</td>\n",
              "      <td>5929085</td>\n",
              "      <td>6060863</td>\n",
              "      <td>650695</td>\n",
              "      <td>5698554</td>\n",
              "      <td>6588000</td>\n",
              "      <td>6588000</td>\n",
              "      <td>4422169</td>\n",
              "      <td>6190307</td>\n",
              "    </tr>\n",
              "    <tr>\n",
              "      <th>unique</th>\n",
              "      <td>1091455</td>\n",
              "      <td>5482669</td>\n",
              "      <td>17459</td>\n",
              "      <td>34050</td>\n",
              "      <td>4</td>\n",
              "      <td>82</td>\n",
              "      <td>30</td>\n",
              "      <td>26260</td>\n",
              "      <td>18914</td>\n",
              "    </tr>\n",
              "    <tr>\n",
              "      <th>top</th>\n",
              "      <td>WI10000057</td>\n",
              "      <td>2018-05-21 04:18:05.465</td>\n",
              "      <td>Pr100017</td>\n",
              "      <td>U100347</td>\n",
              "      <td>click</td>\n",
              "      <td>Chrome</td>\n",
              "      <td>Windows</td>\n",
              "      <td>Mumbai</td>\n",
              "      <td>India</td>\n",
              "    </tr>\n",
              "    <tr>\n",
              "      <th>freq</th>\n",
              "      <td>8877</td>\n",
              "      <td>5</td>\n",
              "      <td>103845</td>\n",
              "      <td>14671</td>\n",
              "      <td>3041039</td>\n",
              "      <td>4709203</td>\n",
              "      <td>3948358</td>\n",
              "      <td>259651</td>\n",
              "      <td>2360175</td>\n",
              "    </tr>\n",
              "  </tbody>\n",
              "</table>\n",
              "</div>"
            ],
            "text/plain": [
              "       webClientID            VisitDateTime  ...     City  Country\n",
              "count      6588000                  5929085  ...  4422169  6190307\n",
              "unique     1091455                  5482669  ...    26260    18914\n",
              "top     WI10000057  2018-05-21 04:18:05.465  ...   Mumbai    India\n",
              "freq          8877                        5  ...   259651  2360175\n",
              "\n",
              "[4 rows x 9 columns]"
            ]
          },
          "metadata": {
            "tags": []
          },
          "execution_count": 9
        }
      ]
    },
    {
      "cell_type": "code",
      "metadata": {
        "colab": {
          "base_uri": "https://localhost:8080/"
        },
        "id": "OF2aW6vdhG4B",
        "outputId": "deea9fb3-4994-4623-8823-9e51a98f2bad"
      },
      "source": [
        "user_data.shape"
      ],
      "execution_count": null,
      "outputs": [
        {
          "output_type": "execute_result",
          "data": {
            "text/plain": [
              "(34050, 3)"
            ]
          },
          "metadata": {
            "tags": []
          },
          "execution_count": 10
        }
      ]
    },
    {
      "cell_type": "code",
      "metadata": {
        "id": "M5TIlUjv-60A"
      },
      "source": [
        "import math\n",
        "from datetime import datetime\n",
        "f = \"%Y-%m-%d %H:%M:%S.%f\" ## format of the date and time extracted\n",
        "d1=[]\n",
        "for i in range(visitor_data.shape[0]): ## iterating through each column of the visitor data\n",
        "  if(type(visitor_data.VisitDateTime.iloc[i])==str): ## if the data is present i.e not NaN\n",
        "    try:\n",
        "      ts=int(visitor_data.VisitDateTime.iloc[i])\n",
        "      d1.append(datetime.fromtimestamp(ts/1e9)) ## if date in unix format\n",
        "    except:\n",
        "      d1.append(datetime.strptime(visitor_data.VisitDateTime.iloc[i], f)) ## if date in datetime format\n",
        "  else:\n",
        "    d1.append(visitor_data.VisitDateTime.iloc[i])  ## if Nan"
      ],
      "execution_count": null,
      "outputs": []
    },
    {
      "cell_type": "code",
      "metadata": {
        "id": "SoxSxaiNBK1D"
      },
      "source": [
        "visitor_data['entire_date']=d1 ### contains date and time as datetime object"
      ],
      "execution_count": null,
      "outputs": []
    },
    {
      "cell_type": "code",
      "metadata": {
        "id": "vefKTnzsJBw5"
      },
      "source": [
        "d=[]\n",
        "for i in range(visitor_data.shape[0]): ## iterating through each column of the visitor data\n",
        "    if(type(visitor_data.VisitDateTime.iloc[i]) == str): ## if the data is present i.e not NaN\n",
        "      try:\n",
        "        ts=int(visitor_data.VisitDateTime.iloc[i]) \n",
        "        d.append(str(date.fromtimestamp(ts/1e9))) ## if date in unix format\n",
        "      except:\n",
        "        d.append(visitor_data.VisitDateTime.iloc[i].split()[0]) ## if date in datetime format\n",
        "    else:\n",
        "      d.append(visitor_data.VisitDateTime.iloc[i]) ## if NaN "
      ],
      "execution_count": null,
      "outputs": []
    },
    {
      "cell_type": "code",
      "metadata": {
        "id": "hgy0k5pyO1wC"
      },
      "source": [
        "visitor_data['date']=d ## a date column is created storing the dates on which the user visited the site"
      ],
      "execution_count": null,
      "outputs": []
    },
    {
      "cell_type": "code",
      "metadata": {
        "id": "2TC5gzX4IigS"
      },
      "source": [
        "visitor_data['ProductID'] = visitor_data['ProductID'].str.upper() \n",
        "## changing all the product IDS to upper case and filling NaN values with space."
      ],
      "execution_count": null,
      "outputs": []
    },
    {
      "cell_type": "code",
      "metadata": {
        "id": "HrHkN5cJJRol"
      },
      "source": [
        "## 1. In the current case, you are supposed to generate an input feature set as on 28-May-2018. \n",
        "## So, the visitor table is from 07-May-2018 to 27-May-2018."
      ],
      "execution_count": null,
      "outputs": []
    },
    {
      "cell_type": "code",
      "metadata": {
        "id": "xA6jQ4bbj8FJ"
      },
      "source": [
        "## taking all those rows whose dates fall between 21-05-2018 to 27-05-2018 (both inclusive) i.e last 7 days.\n",
        "last_7_data=visitor_data[(visitor_data['date']>'2018-05-20') & (visitor_data['date']<='2018-05-27') & (visitor_data['date']!=np.nan)]"
      ],
      "execution_count": null,
      "outputs": []
    },
    {
      "cell_type": "code",
      "metadata": {
        "id": "xOFDGQX-GZsT"
      },
      "source": [
        "## taking all those rows whose dates fall between 13-05-2018 to 27-05-2018 (both inclusive) i.e last 15 days.\n",
        "last_15_data=visitor_data[(visitor_data['date']>'2018-05-12') & (visitor_data['date']<='2018-05-27') & (visitor_data['date']!=np.nan)]"
      ],
      "execution_count": null,
      "outputs": []
    },
    {
      "cell_type": "code",
      "metadata": {
        "id": "uWY3TYMzIcaR"
      },
      "source": [
        "## taking the unique dates each user visited and grouping them by userid and counting the unique dates on which each user visited.\n",
        "data_No_of_days_Visited_7_Days = last_7_data[['UserID','date']].drop_duplicates().dropna().groupby(['UserID']).count().rename(columns={\"date\":\"No_of_days_Visited_7_Days\"})"
      ],
      "execution_count": null,
      "outputs": []
    },
    {
      "cell_type": "code",
      "metadata": {
        "id": "FJsVEXivA4DO"
      },
      "source": [
        "## taking the unique products each user viewed and grouping them by userid and counting the unique products each user viewed.\n",
        "data_No_Of_Products_Viewed_15_Days = last_15_data[['UserID','ProductID']].drop_duplicates().dropna().groupby(['UserID']).count().rename(columns={\"ProductID\":\"No_Of_Products_Viewed_15_Days\"})"
      ],
      "execution_count": null,
      "outputs": []
    },
    {
      "cell_type": "code",
      "metadata": {
        "id": "C6lZGnP0zw5c"
      },
      "source": [
        "user_data.set_index('UserID',inplace=True)\n",
        "Input_Feature_table=user_data \n",
        "Input_Feature_table = pd.concat([Input_Feature_table, data_No_of_days_Visited_7_Days], axis=1).fillna(0)\n",
        "## adding the first col No_of_days_Visited_7_Days and filling the nan values with 0"
      ],
      "execution_count": null,
      "outputs": []
    },
    {
      "cell_type": "code",
      "metadata": {
        "id": "wCVUoPfENitS"
      },
      "source": [
        "Input_Feature_table = pd.concat([Input_Feature_table, data_No_Of_Products_Viewed_15_Days], axis=1).fillna(0)\n",
        "## adding the first col No_Of_Products_Viewed_15_Days and filling the nan values with 0"
      ],
      "execution_count": null,
      "outputs": []
    },
    {
      "cell_type": "code",
      "metadata": {
        "id": "kiUA2I6UxO_k"
      },
      "source": [
        "## converting both the columns into int datatype\n",
        "Input_Feature_table.No_Of_Products_Viewed_15_Days = Input_Feature_table.No_Of_Products_Viewed_15_Days.apply(int)\n",
        "Input_Feature_table.No_of_days_Visited_7_Days = Input_Feature_table.No_of_days_Visited_7_Days.apply(int)"
      ],
      "execution_count": null,
      "outputs": []
    },
    {
      "cell_type": "code",
      "metadata": {
        "colab": {
          "base_uri": "https://localhost:8080/"
        },
        "id": "TxIhtZnZxod1",
        "outputId": "2d37f0c5-a0f2-4a33-f43d-ce6a53a15cb7"
      },
      "source": [
        "Input_Feature_table['Signup Date'].isna().value_counts() ## checking if the signup date has any nan values"
      ],
      "execution_count": null,
      "outputs": [
        {
          "output_type": "execute_result",
          "data": {
            "text/plain": [
              "False    34050\n",
              "Name: Signup Date, dtype: int64"
            ]
          },
          "metadata": {
            "tags": []
          },
          "execution_count": 24
        }
      ]
    },
    {
      "cell_type": "code",
      "metadata": {
        "id": "_PiJsCJZZUNW"
      },
      "source": [
        "## taking just the date part from each row of signup col\n",
        "## subtracting it from 27-05-2018 i.e present date.\n",
        "## storing those values as user_vintage\n",
        "Input_Feature_table['User_Vintage'] = datetime(2018,5,27) - Input_Feature_table['Signup Date'].apply(lambda x : datetime.strptime(x.rsplit(' ',1)[0], \"%Y-%m-%d\"))"
      ],
      "execution_count": null,
      "outputs": []
    },
    {
      "cell_type": "code",
      "metadata": {
        "id": "_Lrm9SuAcOtT"
      },
      "source": [
        "## removing days word from each row of user vintage and storing the integer part and adding 1.\n",
        "Input_Feature_table['User_Vintage']=Input_Feature_table['User_Vintage'].apply(lambda x:int(str(x).split(' ')[0])+1)"
      ],
      "execution_count": null,
      "outputs": []
    },
    {
      "cell_type": "code",
      "metadata": {
        "id": "xFgtlu6QcuCM"
      },
      "source": [
        "## taking the rows with actitvity pageload and with not null product ids and userids from last_15_days data\n",
        "## grouping it by user_id and product_id.\n",
        "## size() is used to count how many times the product is viewed by each user in last 15 days.\n",
        "x = last_15_data[(last_15_data['Activity'].str.lower()=='pageload') & (last_15_data['ProductID']!=np.nan) & (last_15_data['UserID']!=np.nan)].groupby(['UserID','ProductID']).size()"
      ],
      "execution_count": null,
      "outputs": []
    },
    {
      "cell_type": "code",
      "metadata": {
        "id": "1p-kYHquHjsR"
      },
      "source": [
        "## this is the same data as above but it also has date and product id as Pid in it\n",
        "x1 = last_15_data[(last_15_data['Activity'].str.lower()=='pageload') & (last_15_data['ProductID']!=np.nan) & (last_15_data['UserID']!=np.nan)][['entire_date','UserID','ProductID']]\n",
        "x1['Pid'] = x1['ProductID']\n",
        "x1 = x1.groupby(['UserID','ProductID']).first()"
      ],
      "execution_count": null,
      "outputs": []
    },
    {
      "cell_type": "code",
      "metadata": {
        "colab": {
          "base_uri": "https://localhost:8080/",
          "height": 235
        },
        "id": "vqMsDLrKFxBH",
        "outputId": "0215bf1e-0bfa-480d-e415-764bd373441b"
      },
      "source": [
        "x2 = pd.concat([x, x1], axis=1).rename(columns={0:\"count\"})\n",
        "x2.head()"
      ],
      "execution_count": null,
      "outputs": [
        {
          "output_type": "execute_result",
          "data": {
            "text/html": [
              "<div>\n",
              "<style scoped>\n",
              "    .dataframe tbody tr th:only-of-type {\n",
              "        vertical-align: middle;\n",
              "    }\n",
              "\n",
              "    .dataframe tbody tr th {\n",
              "        vertical-align: top;\n",
              "    }\n",
              "\n",
              "    .dataframe thead th {\n",
              "        text-align: right;\n",
              "    }\n",
              "</style>\n",
              "<table border=\"1\" class=\"dataframe\">\n",
              "  <thead>\n",
              "    <tr style=\"text-align: right;\">\n",
              "      <th></th>\n",
              "      <th></th>\n",
              "      <th>count</th>\n",
              "      <th>entire_date</th>\n",
              "      <th>Pid</th>\n",
              "    </tr>\n",
              "    <tr>\n",
              "      <th>UserID</th>\n",
              "      <th>ProductID</th>\n",
              "      <th></th>\n",
              "      <th></th>\n",
              "      <th></th>\n",
              "    </tr>\n",
              "  </thead>\n",
              "  <tbody>\n",
              "    <tr>\n",
              "      <th>U100002</th>\n",
              "      <th>PR100258</th>\n",
              "      <td>2</td>\n",
              "      <td>2018-05-18 10:43:56.628</td>\n",
              "      <td>PR100258</td>\n",
              "    </tr>\n",
              "    <tr>\n",
              "      <th>U100003</th>\n",
              "      <th>PR100079</th>\n",
              "      <td>1</td>\n",
              "      <td>2018-05-25 02:15:57.831</td>\n",
              "      <td>PR100079</td>\n",
              "    </tr>\n",
              "    <tr>\n",
              "      <th rowspan=\"3\" valign=\"top\">U100004</th>\n",
              "      <th>PR100069</th>\n",
              "      <td>1</td>\n",
              "      <td>2018-05-20 14:38:37.204</td>\n",
              "      <td>PR100069</td>\n",
              "    </tr>\n",
              "    <tr>\n",
              "      <th>PR100142</th>\n",
              "      <td>1</td>\n",
              "      <td>2018-05-16 18:25:41.371</td>\n",
              "      <td>PR100142</td>\n",
              "    </tr>\n",
              "    <tr>\n",
              "      <th>PR100197</th>\n",
              "      <td>1</td>\n",
              "      <td>2018-05-17 13:52:57.648</td>\n",
              "      <td>PR100197</td>\n",
              "    </tr>\n",
              "  </tbody>\n",
              "</table>\n",
              "</div>"
            ],
            "text/plain": [
              "                   count             entire_date       Pid\n",
              "UserID  ProductID                                         \n",
              "U100002 PR100258       2 2018-05-18 10:43:56.628  PR100258\n",
              "U100003 PR100079       1 2018-05-25 02:15:57.831  PR100079\n",
              "U100004 PR100069       1 2018-05-20 14:38:37.204  PR100069\n",
              "        PR100142       1 2018-05-16 18:25:41.371  PR100142\n",
              "        PR100197       1 2018-05-17 13:52:57.648  PR100197"
            ]
          },
          "metadata": {
            "tags": []
          },
          "execution_count": 29
        }
      ]
    },
    {
      "cell_type": "code",
      "metadata": {
        "id": "vOnvvrJ7Xpis"
      },
      "source": [
        "x2.sort_values(by=['count','entire_date'],ascending=False,inplace=True) ## sort the data x by count and then by date\n",
        "indices = set([y[0] for y in list(x.index)]) ## store the unique user_ids\n",
        "t=[]\n",
        "for i,ind in enumerate(indices): ## for each user_id\n",
        "  t.append((ind,*list(x2.loc[ind].iloc[0].values))) ## append the userid,count,date and product_id\n"
      ],
      "execution_count": null,
      "outputs": []
    },
    {
      "cell_type": "code",
      "metadata": {
        "colab": {
          "base_uri": "https://localhost:8080/",
          "height": 204
        },
        "id": "_NvCGAfHdAbo",
        "outputId": "39f4bb76-3288-44fa-d88c-616eb2bab748"
      },
      "source": [
        "x2.loc['U115395'] ## to check"
      ],
      "execution_count": null,
      "outputs": [
        {
          "output_type": "execute_result",
          "data": {
            "text/html": [
              "<div>\n",
              "<style scoped>\n",
              "    .dataframe tbody tr th:only-of-type {\n",
              "        vertical-align: middle;\n",
              "    }\n",
              "\n",
              "    .dataframe tbody tr th {\n",
              "        vertical-align: top;\n",
              "    }\n",
              "\n",
              "    .dataframe thead th {\n",
              "        text-align: right;\n",
              "    }\n",
              "</style>\n",
              "<table border=\"1\" class=\"dataframe\">\n",
              "  <thead>\n",
              "    <tr style=\"text-align: right;\">\n",
              "      <th></th>\n",
              "      <th>count</th>\n",
              "      <th>entire_date</th>\n",
              "      <th>Pid</th>\n",
              "    </tr>\n",
              "    <tr>\n",
              "      <th>ProductID</th>\n",
              "      <th></th>\n",
              "      <th></th>\n",
              "      <th></th>\n",
              "    </tr>\n",
              "  </thead>\n",
              "  <tbody>\n",
              "    <tr>\n",
              "      <th>PR101026</th>\n",
              "      <td>1</td>\n",
              "      <td>2018-05-23 05:56:29.013</td>\n",
              "      <td>PR101026</td>\n",
              "    </tr>\n",
              "    <tr>\n",
              "      <th>PR100096</th>\n",
              "      <td>1</td>\n",
              "      <td>2018-05-16 18:50:51.135</td>\n",
              "      <td>PR100096</td>\n",
              "    </tr>\n",
              "    <tr>\n",
              "      <th>PR109530</th>\n",
              "      <td>1</td>\n",
              "      <td>2018-05-16 18:50:05.707</td>\n",
              "      <td>PR109530</td>\n",
              "    </tr>\n",
              "    <tr>\n",
              "      <th>PR100308</th>\n",
              "      <td>1</td>\n",
              "      <td>2018-05-13 09:06:41.793</td>\n",
              "      <td>PR100308</td>\n",
              "    </tr>\n",
              "  </tbody>\n",
              "</table>\n",
              "</div>"
            ],
            "text/plain": [
              "           count             entire_date       Pid\n",
              "ProductID                                         \n",
              "PR101026       1 2018-05-23 05:56:29.013  PR101026\n",
              "PR100096       1 2018-05-16 18:50:51.135  PR100096\n",
              "PR109530       1 2018-05-16 18:50:05.707  PR109530\n",
              "PR100308       1 2018-05-13 09:06:41.793  PR100308"
            ]
          },
          "metadata": {
            "tags": []
          },
          "execution_count": 31
        }
      ]
    },
    {
      "cell_type": "code",
      "metadata": {
        "colab": {
          "base_uri": "https://localhost:8080/"
        },
        "id": "SwGHa4iKW4CX",
        "outputId": "8340d6ef-c100-432b-c67a-25cbd1e5c1d8"
      },
      "source": [
        "## it selects the recently viewed product by the user U115395 as the count is same for the 4 products he/she has viewed\n",
        "pd.DataFrame(data=t,columns=['UserID','count','entire_date','Pid']).set_index('UserID').sort_values('count',ascending=False).loc['U115395']"
      ],
      "execution_count": null,
      "outputs": [
        {
          "output_type": "execute_result",
          "data": {
            "text/plain": [
              "count                                   1\n",
              "entire_date    2018-05-23 05:56:29.013000\n",
              "Pid                              PR101026\n",
              "Name: U115395, dtype: object"
            ]
          },
          "metadata": {
            "tags": []
          },
          "execution_count": 32
        }
      ]
    },
    {
      "cell_type": "code",
      "metadata": {
        "id": "b66sp9hCXFD_"
      },
      "source": [
        "data_Most_Viewed_product_15_Days = pd.DataFrame(data=t,columns=['UserID','count','entire_date','Pid']).set_index('UserID').sort_values('count',ascending=False)['Pid']"
      ],
      "execution_count": null,
      "outputs": []
    },
    {
      "cell_type": "code",
      "metadata": {
        "id": "IAVgCX27hMWG"
      },
      "source": [
        "## fill the missing products with Product101\n",
        "Input_Feature_table = pd.concat([Input_Feature_table, data_Most_Viewed_product_15_Days], axis=1).fillna('Product101')"
      ],
      "execution_count": null,
      "outputs": []
    },
    {
      "cell_type": "code",
      "metadata": {
        "colab": {
          "base_uri": "https://localhost:8080/"
        },
        "id": "4A-n9-bqhfuR",
        "outputId": "94ae04db-2564-436f-92f0-66c574173465"
      },
      "source": [
        "Input_Feature_table.shape"
      ],
      "execution_count": null,
      "outputs": [
        {
          "output_type": "execute_result",
          "data": {
            "text/plain": [
              "(34050, 6)"
            ]
          },
          "metadata": {
            "tags": []
          },
          "execution_count": 35
        }
      ]
    },
    {
      "cell_type": "code",
      "metadata": {
        "colab": {
          "base_uri": "https://localhost:8080/"
        },
        "id": "FHWNGjBYxRdQ",
        "outputId": "f5d1ca5a-4f5a-47d6-95b6-a65b7619df35"
      },
      "source": [
        "## checking if there is any nan value in OS column\n",
        "visitor_data.OS.isna().value_counts()"
      ],
      "execution_count": null,
      "outputs": [
        {
          "output_type": "execute_result",
          "data": {
            "text/plain": [
              "False    6588000\n",
              "Name: OS, dtype: int64"
            ]
          },
          "metadata": {
            "tags": []
          },
          "execution_count": 36
        }
      ]
    },
    {
      "cell_type": "code",
      "metadata": {
        "id": "DRBhcT37pZQn"
      },
      "source": [
        "visitor_data['OS'] = visitor_data['OS'].str.upper() ## changing os col to uppercase\n",
        "v_d = visitor_data\n",
        "v_d['os'] = v_d['OS']"
      ],
      "execution_count": null,
      "outputs": []
    },
    {
      "cell_type": "code",
      "metadata": {
        "id": "FtlTHkK-mjQ1"
      },
      "source": [
        "v = visitor_data[visitor_data['UserID']!=np.nan].groupby(['UserID','OS']).size() ## count of OS used by each user \n",
        "v_d = v_d[v_d['UserID'] !=np.nan].groupby(['UserID','OS']).first()[['os','entire_date']] ## store the os name and entire date\n",
        "v = pd.concat([v, v_d], axis=1).rename(columns={0:\"count\"}) ## finally we are getting the count, name of the os used and the date and time."
      ],
      "execution_count": null,
      "outputs": []
    },
    {
      "cell_type": "code",
      "metadata": {
        "id": "UzHM0Vk6qXUl"
      },
      "source": [
        "v.sort_values(by=['count','entire_date'],ascending=False,inplace=True) ## sort the data by count and then by date\n",
        "indices = set([y[0] for y in list(v.index)]) ## store the unique userids\n",
        "t=[]\n",
        "for i,ind in enumerate(indices):\n",
        "  t.append((ind,*list(v.loc[ind].iloc[0].values[0:2]))) ## append the userid, count, os name and date\n"
      ],
      "execution_count": null,
      "outputs": []
    },
    {
      "cell_type": "code",
      "metadata": {
        "id": "B22YpY1fhhkQ"
      },
      "source": [
        "data_OS = pd.DataFrame(data=t,columns=['UserID','count','OS']).set_index('UserID').sort_values('count',ascending=False)['OS']"
      ],
      "execution_count": null,
      "outputs": []
    },
    {
      "cell_type": "code",
      "metadata": {
        "colab": {
          "base_uri": "https://localhost:8080/"
        },
        "id": "LVUPyv2Iw1iH",
        "outputId": "d439bf24-8880-424d-eefd-59a6dd91e9c3"
      },
      "source": [
        "v.loc['U112575'] ## to check"
      ],
      "execution_count": null,
      "outputs": [
        {
          "output_type": "execute_result",
          "data": {
            "text/html": [
              "<div>\n",
              "<style scoped>\n",
              "    .dataframe tbody tr th:only-of-type {\n",
              "        vertical-align: middle;\n",
              "    }\n",
              "\n",
              "    .dataframe tbody tr th {\n",
              "        vertical-align: top;\n",
              "    }\n",
              "\n",
              "    .dataframe thead th {\n",
              "        text-align: right;\n",
              "    }\n",
              "</style>\n",
              "<table border=\"1\" class=\"dataframe\">\n",
              "  <thead>\n",
              "    <tr style=\"text-align: right;\">\n",
              "      <th></th>\n",
              "      <th>count</th>\n",
              "      <th>os</th>\n",
              "      <th>entire_date</th>\n",
              "    </tr>\n",
              "    <tr>\n",
              "      <th>OS</th>\n",
              "      <th></th>\n",
              "      <th></th>\n",
              "      <th></th>\n",
              "    </tr>\n",
              "  </thead>\n",
              "  <tbody>\n",
              "    <tr>\n",
              "      <th>WINDOWS</th>\n",
              "      <td>1</td>\n",
              "      <td>WINDOWS</td>\n",
              "      <td>2018-05-24 12:41:29.869</td>\n",
              "    </tr>\n",
              "    <tr>\n",
              "      <th>LINUX</th>\n",
              "      <td>1</td>\n",
              "      <td>LINUX</td>\n",
              "      <td>2018-05-23 14:31:35.694</td>\n",
              "    </tr>\n",
              "  </tbody>\n",
              "</table>\n",
              "</div>"
            ],
            "text/plain": [
              "         count       os             entire_date\n",
              "OS                                             \n",
              "WINDOWS      1  WINDOWS 2018-05-24 12:41:29.869\n",
              "LINUX        1    LINUX 2018-05-23 14:31:35.694"
            ]
          },
          "metadata": {
            "tags": []
          },
          "execution_count": 41
        }
      ]
    },
    {
      "cell_type": "code",
      "metadata": {
        "colab": {
          "base_uri": "https://localhost:8080/"
        },
        "id": "WH1Y1jRgjR-C",
        "outputId": "657d24a3-f71f-4ed5-e408-d54ac1535fad"
      },
      "source": [
        "data_OS.loc['U112575'] ## As we see there are 2 os having same count for user U112575 but the more recent one is taken up."
      ],
      "execution_count": null,
      "outputs": [
        {
          "output_type": "execute_result",
          "data": {
            "application/vnd.google.colaboratory.intrinsic+json": {
              "type": "string"
            },
            "text/plain": [
              "'WINDOWS'"
            ]
          },
          "metadata": {
            "tags": []
          },
          "execution_count": 42
        }
      ]
    },
    {
      "cell_type": "code",
      "metadata": {
        "id": "dx9cprQLreGo"
      },
      "source": [
        "Input_Feature_table = pd.concat([Input_Feature_table, data_OS], axis=1)"
      ],
      "execution_count": null,
      "outputs": []
    },
    {
      "cell_type": "code",
      "metadata": {
        "id": "4LD-CRxtrr0j"
      },
      "source": [
        "## The smae process is used as I used to create the column Most_Viewed_product_15_Days but here:\n",
        "## 1. instead of using 15 days data I used entire visitor data.\n",
        "## 2. sorted the data by date and then by count.\n",
        "x = visitor_data[(visitor_data['Activity'].str.lower()=='pageload') & (visitor_data['ProductID']!=np.nan) & (visitor_data['entire_date']!=np.nan) & (visitor_data['UserID']!=np.nan)].groupby(['UserID','ProductID']).size()\n",
        "x1 = visitor_data[(visitor_data['Activity'].str.lower()=='pageload') & (visitor_data['ProductID']!=np.nan) & (visitor_data['entire_date']!=np.nan) & (visitor_data['UserID']!=np.nan)][['entire_date','UserID','ProductID']]\n",
        "x1['Recently_Viewed_Product'] = x1['ProductID']\n",
        "x1 = x1.groupby(['UserID','ProductID']).first()\n",
        "x2 = pd.concat([x, x1], axis=1).rename(columns={0:\"count\"})\n",
        "x2.sort_values(by=['entire_date','count'],ascending=False,inplace=True) ## sorting it by date then count\n",
        "indices = set([y[0] for y in list(x2.index)])\n",
        "t=[]\n",
        "for i,ind in enumerate(indices):\n",
        "  t.append((ind,*list(x2.loc[ind].iloc[0].values)))\n"
      ],
      "execution_count": null,
      "outputs": []
    },
    {
      "cell_type": "code",
      "metadata": {
        "id": "c3ZzcH66vGjn"
      },
      "source": [
        "Input_Feature_table =Input_Feature_table.rename(columns={\"Pid\":\"Most_Viewed_product_15_Days\"})"
      ],
      "execution_count": null,
      "outputs": []
    },
    {
      "cell_type": "code",
      "metadata": {
        "id": "oAvWZmjesvI0"
      },
      "source": [
        "data_Most_Recently_Viewed_product = pd.DataFrame(data=t,columns=['UserID','count','entire_date','Recently_Viewed_Product']).set_index('UserID').sort_values('count',ascending=False)['Recently_Viewed_Product']"
      ],
      "execution_count": null,
      "outputs": []
    },
    {
      "cell_type": "code",
      "metadata": {
        "id": "7e70NRrYt9po"
      },
      "source": [
        "Input_Feature_table = pd.concat([Input_Feature_table, data_Most_Recently_Viewed_product], axis=1).fillna('Product101')"
      ],
      "execution_count": null,
      "outputs": []
    },
    {
      "cell_type": "code",
      "metadata": {
        "id": "pnYznvo0uRoV"
      },
      "source": [
        "## taking the last 7 day data but with activity pageload.\n",
        "last_7_data_pageload=visitor_data[(visitor_data['date']>'2018-05-20') & (visitor_data['date']<='2018-05-27') & (visitor_data['Activity'].str.lower() == 'pageload') & (visitor_data['entire_date']!=np.nan)][['UserID','Activity']]"
      ],
      "execution_count": null,
      "outputs": []
    },
    {
      "cell_type": "code",
      "metadata": {
        "id": "dmUqTPKzwloh"
      },
      "source": [
        "## changing all the activites to lower case.\n",
        "last_7_data_pageload['Activity']=last_7_data_pageload['Activity'].str.lower()"
      ],
      "execution_count": null,
      "outputs": []
    },
    {
      "cell_type": "code",
      "metadata": {
        "id": "RyBPGAQsw_er"
      },
      "source": [
        "## group last 7 day data of pageloads by userids and take the size\n",
        "v=last_7_data_pageload[(last_7_data_pageload['UserID']!=np.nan)].groupby(['UserID']).size()"
      ],
      "execution_count": null,
      "outputs": []
    },
    {
      "cell_type": "code",
      "metadata": {
        "id": "-3FUh8kz04-s"
      },
      "source": [
        "## I got the count of pageloads\n",
        "data_Pageloads_last_7_days = v.to_frame().rename(columns={0:'Pageloads_last_7_days'})"
      ],
      "execution_count": null,
      "outputs": []
    },
    {
      "cell_type": "code",
      "metadata": {
        "id": "zO4D1H5l08mj"
      },
      "source": [
        "## fill missing values with 0\n",
        "Input_Feature_table = pd.concat([Input_Feature_table, data_Pageloads_last_7_days], axis=1).fillna(0)"
      ],
      "execution_count": null,
      "outputs": []
    },
    {
      "cell_type": "code",
      "metadata": {
        "id": "pymA6hwI1r99"
      },
      "source": [
        "## taking the last 7 day data but with activity click.\n",
        "last_7_data_click=visitor_data[(visitor_data['date']>'2018-05-20') & (visitor_data['date']<='2018-05-27') & (visitor_data['Activity'].str.lower() == 'click') & (visitor_data['entire_date']!=np.nan)][['UserID','Activity']]"
      ],
      "execution_count": null,
      "outputs": []
    },
    {
      "cell_type": "code",
      "metadata": {
        "id": "luope6nt12ai"
      },
      "source": [
        "## changing all the activites to lower case.\n",
        "last_7_data_click['Activity']=last_7_data_click['Activity'].str.lower()"
      ],
      "execution_count": null,
      "outputs": []
    },
    {
      "cell_type": "code",
      "metadata": {
        "id": "S63XK2UP2AAA",
        "colab": {
          "base_uri": "https://localhost:8080/"
        },
        "outputId": "d4cbaaac-d5e2-4015-cc7f-eb34082dd219"
      },
      "source": [
        "## group last 7 day data of clicks by userids and take the size\n",
        "v=last_7_data_click[(last_7_data.UserID!=np.nan)].groupby(['UserID']).size()"
      ],
      "execution_count": null,
      "outputs": [
        {
          "output_type": "stream",
          "text": [
            "/usr/local/lib/python3.7/dist-packages/ipykernel_launcher.py:2: UserWarning: Boolean Series key will be reindexed to match DataFrame index.\n",
            "  \n"
          ],
          "name": "stderr"
        }
      ]
    },
    {
      "cell_type": "code",
      "metadata": {
        "id": "H0Gq4thy2HIK"
      },
      "source": [
        "data_Clicks_last_7_days = v.to_frame().rename(columns={0:'Clicks_last_7_days'})"
      ],
      "execution_count": null,
      "outputs": []
    },
    {
      "cell_type": "code",
      "metadata": {
        "id": "UCpKn_Dy2OG7"
      },
      "source": [
        "Input_Feature_table = pd.concat([Input_Feature_table, data_Clicks_last_7_days], axis=1).fillna(0)"
      ],
      "execution_count": null,
      "outputs": []
    },
    {
      "cell_type": "code",
      "metadata": {
        "id": "A1ta_ki82Yjh"
      },
      "source": [
        "Input_Feature_table.Pageloads_last_7_days\t = Input_Feature_table.Pageloads_last_7_days.apply(int)\n",
        "Input_Feature_table.Clicks_last_7_days\t = Input_Feature_table.Clicks_last_7_days.apply(int)\n"
      ],
      "execution_count": null,
      "outputs": []
    },
    {
      "cell_type": "code",
      "metadata": {
        "id": "2uUsV45j3VX8"
      },
      "source": [
        "Input_Feature_table.drop(['Signup Date','User Segment'],axis=1,inplace=True)"
      ],
      "execution_count": null,
      "outputs": []
    },
    {
      "cell_type": "code",
      "metadata": {
        "id": "gzDU1rRS8ejE"
      },
      "source": [
        "Input_Feature_table = Input_Feature_table.reset_index().rename(columns={\"index\":\"UserID\",\"OS\":\"Most_Active_OS\"})"
      ],
      "execution_count": null,
      "outputs": []
    },
    {
      "cell_type": "code",
      "metadata": {
        "id": "_n7-RJ8s9bUV"
      },
      "source": [
        "sample = pd.read_csv(\"/content/sample_submission_M7Vpb9f.csv\")"
      ],
      "execution_count": null,
      "outputs": []
    },
    {
      "cell_type": "code",
      "metadata": {
        "id": "E6U647Da_b05"
      },
      "source": [
        "indices =list(sample[['UserID']].values.reshape(-1))"
      ],
      "execution_count": null,
      "outputs": []
    },
    {
      "cell_type": "code",
      "metadata": {
        "id": "kzNhBfgQAYVo"
      },
      "source": [
        "Input_Feature_table.set_index('UserID',inplace=True)"
      ],
      "execution_count": null,
      "outputs": []
    },
    {
      "cell_type": "code",
      "metadata": {
        "id": "SY35fbZu_QDx"
      },
      "source": [
        "## To make sure my submission file’s rows (user ids) are in the same order as mentioned in the sample submission.\n",
        "t=[]\n",
        "for i,ind in enumerate(indices):\n",
        "  t.append((ind,*list(Input_Feature_table.loc[ind].values)))"
      ],
      "execution_count": null,
      "outputs": []
    },
    {
      "cell_type": "code",
      "metadata": {
        "id": "ZGQBMI7E-gPa"
      },
      "source": [
        "Final_table = pd.DataFrame(data=t,columns=['UserID',*list(Input_Feature_table.columns)]) "
      ],
      "execution_count": null,
      "outputs": []
    },
    {
      "cell_type": "code",
      "metadata": {
        "id": "870X3fDe-nda"
      },
      "source": [
        "Final_table.to_csv('Input_Feature_table16.csv', index=False)"
      ],
      "execution_count": null,
      "outputs": []
    },
    {
      "cell_type": "code",
      "metadata": {
        "id": "xe9M7IIzBfcU"
      },
      "source": [
        ""
      ],
      "execution_count": null,
      "outputs": []
    },
    {
      "cell_type": "code",
      "metadata": {
        "id": "0_GhwXDKJIDM"
      },
      "source": [
        ""
      ],
      "execution_count": null,
      "outputs": []
    }
  ]
}